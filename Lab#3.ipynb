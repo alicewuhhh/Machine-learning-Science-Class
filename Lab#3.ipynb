{
 "cells": [
  {
   "cell_type": "markdown",
   "id": "cbc2d6d9",
   "metadata": {},
   "source": [
    "## Lab 3: Wide data and linear models\n",
    "### Alice Wu.  ID: qichaow"
   ]
  },
  {
   "cell_type": "code",
   "execution_count": 131,
   "id": "7fc52f73",
   "metadata": {},
   "outputs": [],
   "source": [
    "## Import libraries\n",
    "import numpy as np\n",
    "import pandas as pd\n",
    "import seaborn as sns\n",
    "import os\n",
    "import matplotlib.pyplot as plt\n",
    "from mpl_toolkits.mplot3d import Axes3D\n",
    "\n",
    "from sklearn.cluster import KMeans\n",
    "from sklearn.decomposition import PCA\n",
    "from sklearn import manifold\n",
    "from matplotlib import pyplot\n",
    "\n",
    "from sklearn.preprocessing import StandardScaler\n",
    "from sklearn.linear_model import LogisticRegression,LinearRegression,Lasso,Ridge,ElasticNet\n",
    "from sklearn.metrics import confusion_matrix, classification_report\n",
    "from sklearn.metrics import precision_score, recall_score, f1_score\n",
    "from sklearn.model_selection import train_test_split"
   ]
  },
  {
   "cell_type": "code",
   "execution_count": 132,
   "id": "518723e4",
   "metadata": {},
   "outputs": [],
   "source": [
    "testX=pd.read_csv('/Users/aliceqichaowu/Desktop/38615/test_X.csv')\n",
    "trainX=pd.read_csv('/Users/aliceqichaowu/Desktop/38615/train_X.csv')\n",
    "trainY=pd.read_csv('/Users/aliceqichaowu/Desktop/38615/train_y.csv')"
   ]
  },
  {
   "cell_type": "code",
   "execution_count": 133,
   "id": "f65f64a3",
   "metadata": {
    "scrolled": true
   },
   "outputs": [
    {
     "name": "stdout",
     "output_type": "stream",
     "text": [
      "<class 'pandas.core.frame.DataFrame'>\n",
      "RangeIndex: 110 entries, 0 to 109\n",
      "Columns: 17971 entries, Unnamed: 0 to ENSG00000283697\n",
      "dtypes: float64(17970), object(1)\n",
      "memory usage: 15.1+ MB\n",
      "None\n",
      "<class 'pandas.core.frame.DataFrame'>\n",
      "RangeIndex: 444 entries, 0 to 443\n",
      "Columns: 17971 entries, Unnamed: 0 to ENSG00000283697\n",
      "dtypes: float64(17970), object(1)\n",
      "memory usage: 60.9+ MB\n",
      "None\n",
      "<class 'pandas.core.frame.DataFrame'>\n",
      "RangeIndex: 444 entries, 0 to 443\n",
      "Data columns (total 2 columns):\n",
      " #   Column                         Non-Null Count  Dtype \n",
      "---  ------                         --------------  ----- \n",
      " 0   Unnamed: 0                     444 non-null    object\n",
      " 1   xml_neoplasm_histologic_grade  444 non-null    int64 \n",
      "dtypes: int64(1), object(1)\n",
      "memory usage: 7.1+ KB\n",
      "None\n"
     ]
    },
    {
     "data": {
      "text/html": [
       "<div>\n",
       "<style scoped>\n",
       "    .dataframe tbody tr th:only-of-type {\n",
       "        vertical-align: middle;\n",
       "    }\n",
       "\n",
       "    .dataframe tbody tr th {\n",
       "        vertical-align: top;\n",
       "    }\n",
       "\n",
       "    .dataframe thead th {\n",
       "        text-align: right;\n",
       "    }\n",
       "</style>\n",
       "<table border=\"1\" class=\"dataframe\">\n",
       "  <thead>\n",
       "    <tr style=\"text-align: right;\">\n",
       "      <th></th>\n",
       "      <th>Unnamed: 0</th>\n",
       "      <th>ENSG00000000003</th>\n",
       "      <th>ENSG00000000005</th>\n",
       "      <th>ENSG00000000419</th>\n",
       "      <th>ENSG00000000457</th>\n",
       "      <th>ENSG00000000938</th>\n",
       "      <th>ENSG00000000971</th>\n",
       "      <th>ENSG00000001036</th>\n",
       "      <th>ENSG00000001084</th>\n",
       "      <th>ENSG00000001167</th>\n",
       "      <th>...</th>\n",
       "      <th>ENSG00000282651</th>\n",
       "      <th>ENSG00000282815</th>\n",
       "      <th>ENSG00000282939</th>\n",
       "      <th>ENSG00000283063</th>\n",
       "      <th>ENSG00000283439</th>\n",
       "      <th>ENSG00000283463</th>\n",
       "      <th>ENSG00000283526</th>\n",
       "      <th>ENSG00000283586</th>\n",
       "      <th>ENSG00000283632</th>\n",
       "      <th>ENSG00000283697</th>\n",
       "    </tr>\n",
       "  </thead>\n",
       "  <tbody>\n",
       "    <tr>\n",
       "      <th>0</th>\n",
       "      <td>1576BB97-F8EA-48FF-9494-EBC7A0C97312</td>\n",
       "      <td>7.503849</td>\n",
       "      <td>1.685440</td>\n",
       "      <td>8.090089</td>\n",
       "      <td>5.546588</td>\n",
       "      <td>3.412025</td>\n",
       "      <td>5.871539</td>\n",
       "      <td>8.395029</td>\n",
       "      <td>5.894996</td>\n",
       "      <td>6.313896</td>\n",
       "      <td>...</td>\n",
       "      <td>3.626396</td>\n",
       "      <td>-2.640463</td>\n",
       "      <td>-7.278265</td>\n",
       "      <td>0.721287</td>\n",
       "      <td>-7.278265</td>\n",
       "      <td>4.672536</td>\n",
       "      <td>5.153675</td>\n",
       "      <td>-7.278265</td>\n",
       "      <td>4.843800</td>\n",
       "      <td>4.302864</td>\n",
       "    </tr>\n",
       "    <tr>\n",
       "      <th>1</th>\n",
       "      <td>63F4281A-4D90-4589-879E-549097FB3459</td>\n",
       "      <td>6.112919</td>\n",
       "      <td>-5.425877</td>\n",
       "      <td>5.604743</td>\n",
       "      <td>4.248246</td>\n",
       "      <td>3.374033</td>\n",
       "      <td>3.370075</td>\n",
       "      <td>6.804015</td>\n",
       "      <td>4.646287</td>\n",
       "      <td>6.236134</td>\n",
       "      <td>...</td>\n",
       "      <td>-5.425877</td>\n",
       "      <td>-2.143410</td>\n",
       "      <td>1.956699</td>\n",
       "      <td>1.377768</td>\n",
       "      <td>-5.425877</td>\n",
       "      <td>4.560829</td>\n",
       "      <td>3.735085</td>\n",
       "      <td>-5.425877</td>\n",
       "      <td>4.105789</td>\n",
       "      <td>4.803357</td>\n",
       "    </tr>\n",
       "    <tr>\n",
       "      <th>2</th>\n",
       "      <td>74CF740D-201D-4070-99B9-F007E7C4D472</td>\n",
       "      <td>6.183846</td>\n",
       "      <td>1.217355</td>\n",
       "      <td>6.093903</td>\n",
       "      <td>4.403216</td>\n",
       "      <td>5.722867</td>\n",
       "      <td>6.123209</td>\n",
       "      <td>7.680258</td>\n",
       "      <td>4.983386</td>\n",
       "      <td>5.626569</td>\n",
       "      <td>...</td>\n",
       "      <td>11.317818</td>\n",
       "      <td>-5.259782</td>\n",
       "      <td>5.093316</td>\n",
       "      <td>3.800607</td>\n",
       "      <td>-5.259782</td>\n",
       "      <td>4.966710</td>\n",
       "      <td>2.829487</td>\n",
       "      <td>-5.259782</td>\n",
       "      <td>5.118704</td>\n",
       "      <td>5.024979</td>\n",
       "    </tr>\n",
       "    <tr>\n",
       "      <th>3</th>\n",
       "      <td>1329E1C1-743E-4541-9081-165572D4BF47</td>\n",
       "      <td>6.325535</td>\n",
       "      <td>-0.197432</td>\n",
       "      <td>6.722632</td>\n",
       "      <td>4.509093</td>\n",
       "      <td>4.941256</td>\n",
       "      <td>3.700171</td>\n",
       "      <td>7.492606</td>\n",
       "      <td>5.031053</td>\n",
       "      <td>5.859242</td>\n",
       "      <td>...</td>\n",
       "      <td>3.536141</td>\n",
       "      <td>-1.362703</td>\n",
       "      <td>3.480703</td>\n",
       "      <td>0.776383</td>\n",
       "      <td>-0.999629</td>\n",
       "      <td>4.794226</td>\n",
       "      <td>-5.399485</td>\n",
       "      <td>-5.399485</td>\n",
       "      <td>4.660878</td>\n",
       "      <td>4.684343</td>\n",
       "    </tr>\n",
       "    <tr>\n",
       "      <th>4</th>\n",
       "      <td>88BBA1BF-44E0-416E-A028-04F410A3FE5D</td>\n",
       "      <td>7.162383</td>\n",
       "      <td>-5.539710</td>\n",
       "      <td>6.186110</td>\n",
       "      <td>5.270282</td>\n",
       "      <td>5.412103</td>\n",
       "      <td>3.781568</td>\n",
       "      <td>7.285779</td>\n",
       "      <td>4.847552</td>\n",
       "      <td>6.337205</td>\n",
       "      <td>...</td>\n",
       "      <td>5.112772</td>\n",
       "      <td>-5.539710</td>\n",
       "      <td>4.369268</td>\n",
       "      <td>2.927849</td>\n",
       "      <td>0.791397</td>\n",
       "      <td>4.542333</td>\n",
       "      <td>4.628775</td>\n",
       "      <td>-5.539710</td>\n",
       "      <td>4.812787</td>\n",
       "      <td>4.524834</td>\n",
       "    </tr>\n",
       "  </tbody>\n",
       "</table>\n",
       "<p>5 rows × 17971 columns</p>\n",
       "</div>"
      ],
      "text/plain": [
       "                             Unnamed: 0  ENSG00000000003  ENSG00000000005  \\\n",
       "0  1576BB97-F8EA-48FF-9494-EBC7A0C97312         7.503849         1.685440   \n",
       "1  63F4281A-4D90-4589-879E-549097FB3459         6.112919        -5.425877   \n",
       "2  74CF740D-201D-4070-99B9-F007E7C4D472         6.183846         1.217355   \n",
       "3  1329E1C1-743E-4541-9081-165572D4BF47         6.325535        -0.197432   \n",
       "4  88BBA1BF-44E0-416E-A028-04F410A3FE5D         7.162383        -5.539710   \n",
       "\n",
       "   ENSG00000000419  ENSG00000000457  ENSG00000000938  ENSG00000000971  \\\n",
       "0         8.090089         5.546588         3.412025         5.871539   \n",
       "1         5.604743         4.248246         3.374033         3.370075   \n",
       "2         6.093903         4.403216         5.722867         6.123209   \n",
       "3         6.722632         4.509093         4.941256         3.700171   \n",
       "4         6.186110         5.270282         5.412103         3.781568   \n",
       "\n",
       "   ENSG00000001036  ENSG00000001084  ENSG00000001167  ...  ENSG00000282651  \\\n",
       "0         8.395029         5.894996         6.313896  ...         3.626396   \n",
       "1         6.804015         4.646287         6.236134  ...        -5.425877   \n",
       "2         7.680258         4.983386         5.626569  ...        11.317818   \n",
       "3         7.492606         5.031053         5.859242  ...         3.536141   \n",
       "4         7.285779         4.847552         6.337205  ...         5.112772   \n",
       "\n",
       "   ENSG00000282815  ENSG00000282939  ENSG00000283063  ENSG00000283439  \\\n",
       "0        -2.640463        -7.278265         0.721287        -7.278265   \n",
       "1        -2.143410         1.956699         1.377768        -5.425877   \n",
       "2        -5.259782         5.093316         3.800607        -5.259782   \n",
       "3        -1.362703         3.480703         0.776383        -0.999629   \n",
       "4        -5.539710         4.369268         2.927849         0.791397   \n",
       "\n",
       "   ENSG00000283463  ENSG00000283526  ENSG00000283586  ENSG00000283632  \\\n",
       "0         4.672536         5.153675        -7.278265         4.843800   \n",
       "1         4.560829         3.735085        -5.425877         4.105789   \n",
       "2         4.966710         2.829487        -5.259782         5.118704   \n",
       "3         4.794226        -5.399485        -5.399485         4.660878   \n",
       "4         4.542333         4.628775        -5.539710         4.812787   \n",
       "\n",
       "   ENSG00000283697  \n",
       "0         4.302864  \n",
       "1         4.803357  \n",
       "2         5.024979  \n",
       "3         4.684343  \n",
       "4         4.524834  \n",
       "\n",
       "[5 rows x 17971 columns]"
      ]
     },
     "execution_count": 133,
     "metadata": {},
     "output_type": "execute_result"
    }
   ],
   "source": [
    "print(testX.info())\n",
    "print(trainX.info())\n",
    "print(trainY.info())\n",
    "testX.head(5)"
   ]
  },
  {
   "cell_type": "code",
   "execution_count": 231,
   "id": "fe40daef",
   "metadata": {},
   "outputs": [
    {
     "name": "stdout",
     "output_type": "stream",
     "text": [
      "There are 0 nan in the dataframe\n"
     ]
    }
   ],
   "source": [
    "# Check missing values\n",
    "print('There are %i nan in the dataframe' % trainY.isna().sum().sum())\n"
   ]
  },
  {
   "cell_type": "code",
   "execution_count": 134,
   "id": "d30c739e",
   "metadata": {},
   "outputs": [],
   "source": [
    "# Set up X_test, X_train, and y\n",
    "y = trainY.iloc[:,1:]\n",
    "X_train = trainX.iloc[:,1:]\n",
    "X_test= testX.iloc[:,1:]"
   ]
  },
  {
   "cell_type": "code",
   "execution_count": 135,
   "id": "d8e3c9d5",
   "metadata": {},
   "outputs": [],
   "source": [
    "# Normalization\n",
    "scaler = StandardScaler()  # normalization: zero mean, unit variance\n",
    "scaler.fit(X_train)  # scaling factor determined from the training set\n",
    "\n",
    "X_train = scaler.transform(X_train)\n",
    "X_test = scaler.transform(X_test)  # apply the same scaling to the test set"
   ]
  },
  {
   "cell_type": "markdown",
   "id": "d854e93c",
   "metadata": {},
   "source": [
    "\n",
    "### 1. Try different linear models: linear regression, logistic regression, Ridge regression, LASSO\n",
    "\n"
   ]
  },
  {
   "cell_type": "code",
   "execution_count": 51,
   "id": "eb4d58e9",
   "metadata": {
    "scrolled": true
   },
   "outputs": [],
   "source": [
    "## Linear regression: \n",
    "# accruacy: 0.91666 (private), 0.84375 (public)\n",
    "mdl_lar= LinearRegression()\n",
    "mdl_lar.fit(X_train, y)\n",
    "y_pred_LaR_temp = np.squeeze(mdl_lar.predict(X_test))\n",
    "y_pred_LaR=[]\n",
    "for i in y_pred_LaR_temp:\n",
    "    if i>0.5:\n",
    "        y_pred_LaR.append(1)\n",
    "    else:\n",
    "        y_pred_LaR.append(0)\n",
    "# [ x for x in y_pred_LaR if x != 0 ]"
   ]
  },
  {
   "cell_type": "code",
   "execution_count": 75,
   "id": "d159f47c",
   "metadata": {},
   "outputs": [
    {
     "name": "stderr",
     "output_type": "stream",
     "text": [
      "/Users/aliceqichaowu/opt/anaconda3/lib/python3.8/site-packages/sklearn/utils/validation.py:63: DataConversionWarning: A column-vector y was passed when a 1d array was expected. Please change the shape of y to (n_samples, ), for example using ravel().\n",
      "  return f(*args, **kwargs)\n"
     ]
    }
   ],
   "source": [
    "## Logistic regression\n",
    "# accruacy: 0.88888 (private), 0.83870 (public)\n",
    "mdl_lr = LogisticRegression('none')\n",
    "mdl_lr.fit(X_train, y)\n",
    "y_pred_lr_temp = np.squeeze(mdl_lr.predict(X_test))\n",
    "y_pred_LR=[]\n",
    "for i in y_pred_lr_temp:\n",
    "    if i>0.5:\n",
    "        y_pred_LR.append(1)\n",
    "    else:\n",
    "        y_pred_LR.append(0)"
   ]
  },
  {
   "cell_type": "code",
   "execution_count": 65,
   "id": "9d825687",
   "metadata": {},
   "outputs": [],
   "source": [
    "## Ridge regression\n",
    "# accruacy: 0.91666 (private), 0.84375 (public)\n",
    "mdl_rr = Ridge(alpha=0.1)\n",
    "mdl_rr.fit(X_train, y)\n",
    "y_pred_rr_temp = np.squeeze(mdl_rr.predict(X_test))\n",
    "y_pred_RR=[]\n",
    "for i in y_pred_rr_temp:\n",
    "    if i>0.5:\n",
    "        y_pred_RR.append(1)\n",
    "    else:\n",
    "        y_pred_RR.append(0)"
   ]
  },
  {
   "cell_type": "code",
   "execution_count": 66,
   "id": "22cda6c5",
   "metadata": {},
   "outputs": [],
   "source": [
    "## Lasso regression: \n",
    "# accruacy: 0.87671 (private), 0.86567 (public)\n",
    "mdl_las = Lasso(alpha=0.1)\n",
    "mdl_las.fit(X_train, y)\n",
    "y_pred_las_temp = np.squeeze(mdl_las.predict(X_test))\n",
    "y_pred_Las=[]\n",
    "for i in y_pred_las_temp:\n",
    "    if i>0.5:\n",
    "        y_pred_Las.append(1)\n",
    "    else:\n",
    "        y_pred_Las.append(0)"
   ]
  },
  {
   "cell_type": "code",
   "execution_count": 73,
   "id": "50c8e2a3",
   "metadata": {},
   "outputs": [],
   "source": [
    "## Elastic Net\n",
    "# accruacy: 0.87323 (private), 0.84848 (public)\n",
    "mdl_en = ElasticNet(alpha=0.1)\n",
    "mdl_en.fit(X_train, y)\n",
    "y_pred_en_temp = np.squeeze(mdl_en.predict(X_test))\n",
    "y_pred_EN=[]\n",
    "for i in y_pred_en_temp:\n",
    "    if i>0.5:\n",
    "        y_pred_EN.append(1)\n",
    "    else:\n",
    "        y_pred_EN.append(0)\n",
    "    "
   ]
  },
  {
   "cell_type": "markdown",
   "id": "bfde7813",
   "metadata": {},
   "source": [
    "### 2. Test regularization parameters:\n",
    "- Try L1 (lasso) and L2 (ridge) on logistic regression; Try lasso and ridge regression models with with different alpha values\n",
    "- After trying different models, I found out the logistic model wirh penalty='elasticnet',solver='saga',l1_ratio=0.5 has the highest accuracy 0.90140 (private score) and 0.88888 (public score). "
   ]
  },
  {
   "cell_type": "code",
   "execution_count": 165,
   "id": "8ba7f059",
   "metadata": {
    "scrolled": true
   },
   "outputs": [
    {
     "name": "stderr",
     "output_type": "stream",
     "text": [
      "/Users/aliceqichaowu/opt/anaconda3/lib/python3.8/site-packages/sklearn/utils/validation.py:63: DataConversionWarning: A column-vector y was passed when a 1d array was expected. Please change the shape of y to (n_samples, ), for example using ravel().\n",
      "  return f(*args, **kwargs)\n",
      "/Users/aliceqichaowu/opt/anaconda3/lib/python3.8/site-packages/sklearn/utils/validation.py:63: DataConversionWarning: A column-vector y was passed when a 1d array was expected. Please change the shape of y to (n_samples, ), for example using ravel().\n",
      "  return f(*args, **kwargs)\n",
      "/Users/aliceqichaowu/opt/anaconda3/lib/python3.8/site-packages/sklearn/linear_model/_sag.py:328: ConvergenceWarning: The max_iter was reached which means the coef_ did not converge\n",
      "  warnings.warn(\"The max_iter was reached which means \"\n"
     ]
    }
   ],
   "source": [
    "## Logistic regression\n",
    "# LR1 (logitstic, penalty='l1',solver='liblinear'): 0.85714 (private), 0.81967 (public)\n",
    "# LR2 (logitstic, penalty='elasticnet',solver='saga',l1_ratio=0.5): 0.90140, 0.88888\n",
    "# LR2, alpha=100: 0.79120, 0.76404\n",
    "\n",
    "mdl_lr1 = LogisticRegression(penalty='l1',solver='liblinear')\n",
    "mdl_lr2 = LogisticRegression(penalty='elasticnet',solver='saga',l1_ratio=0.5)\n",
    "mdl_en_a1 = ElasticNet(alpha=1)\n",
    "mdl_en_a100 = ElasticNet(alpha=100)\n",
    "\n",
    "mdl_lr1.fit(X_train, y)\n",
    "mdl_lr2.fit(X_train, y)\n",
    "mdl_en_a1.fit(X_train, y)\n",
    "mdl_en_a100.fit(X_train, y)\n",
    "\n",
    "y_pred_lr_temp1 = np.squeeze(mdl_lr1.predict(X_test))\n",
    "y_pred_lr_temp2 = np.squeeze(mdl_lr2.predict(X_test))\n",
    "y_pred_en_a1_temp=np.squeeze(mdl_en_a1.predict(X_test))\n",
    "y_pred_en_a100_temp=np.squeeze(mdl_en_a100.predict(X_test))\n",
    "\n",
    "y_pred_LR1=[]\n",
    "y_pred_LR2=[]\n",
    "y_pred_en_a1=[]\n",
    "y_pred_en_a100=[]\n",
    "\n",
    "for i in y_pred_en_a100_temp:\n",
    "    if i>0.5:\n",
    "        y_pred_en_a100.append(1)\n",
    "    else:\n",
    "        y_pred_en_a100.append(0)\n"
   ]
  },
  {
   "cell_type": "markdown",
   "id": "109136e0",
   "metadata": {},
   "source": [
    "### 3. Random shuffle\n",
    "- Model accuracy: 0.67605 (private), 0.65671 (public)\n",
    "\n",
    "We can see that the random model will have a random chance level"
   ]
  },
  {
   "cell_type": "code",
   "execution_count": 130,
   "id": "37d5fe53",
   "metadata": {},
   "outputs": [],
   "source": [
    "\n",
    "\n",
    "from sklearn.utils import shuffle\n",
    "X_ran, y_ran = shuffle(X_train, y)\n",
    "\n",
    "reg = LinearRegression()\n",
    "reg.fit(X_ran,y_ran)\n",
    "\n",
    "y_pred_ran_temp = reg.predict(X_test)\n",
    "y_pred_ran=[]\n",
    "for i in y_pred_ran_temp:\n",
    "    if i>0.5:\n",
    "        y_pred_ran.append(1)\n",
    "    else:\n",
    "        y_pred_ran.append(0)\n",
    "# y_pred_ran\n"
   ]
  },
  {
   "cell_type": "code",
   "execution_count": 152,
   "id": "1d144249",
   "metadata": {},
   "outputs": [],
   "source": [
    "## export the y_pred data file\n",
    "y_pred_col=pd.DataFrame(data={'ID':testX.iloc[:,0],'xml_neoplasm_histologic_grade':y_pred_en_a100})\n",
    "os.makedirs('/Users/aliceqichaowu/Desktop/38615/', exist_ok=True)  \n",
    "y_pred_col.to_csv('/Users/aliceqichaowu/Desktop/38615/pred_en_a100.csv',index=False)  \n"
   ]
  },
  {
   "cell_type": "markdown",
   "id": "c1963437",
   "metadata": {},
   "source": [
    "### 4. Feature importance: find out the 10 most important features"
   ]
  },
  {
   "cell_type": "code",
   "execution_count": 224,
   "id": "fce0dfc4",
   "metadata": {},
   "outputs": [
    {
     "name": "stdout",
     "output_type": "stream",
     "text": [
      "['ENSG00000177947' 'ENSG00000180316' 'ENSG00000136352' 'ENSG00000135116'\n",
      " 'ENSG00000136535' 'ENSG00000004848' 'ENSG00000130595' 'ENSG00000144290'\n",
      " 'ENSG00000248546' 'ENSG00000197416']\n"
     ]
    },
    {
     "data": {
      "text/plain": [
       "Text(0.5, 1.0, 'Feature importance: 10 most important features')"
      ]
     },
     "execution_count": 224,
     "metadata": {},
     "output_type": "execute_result"
    },
    {
     "data": {
      "image/png": "[encoded data removed]",
      "text/plain": [
       "<Figure size 432x288 with 1 Axes>"
      ]
     },
     "metadata": {
      "needs_background": "light"
     },
     "output_type": "display_data"
    }
   ],
   "source": [
    "importance = np.flip(np.argsort(mdl_lr2.coef_[0]))\n",
    "importance10=importance[0:10]\n",
    "all_feat=testX.columns[1:]\n",
    "all_arr=np.array(all_feat)\n",
    "print(all_arr[importance10])\n",
    "plt.barh(all_arr[importance10], np.flip(np.sort(mdl_lr2.coef_[0]))[0:10])\n",
    "plt.title('Feature importance: 10 most important features')"
   ]
  },
  {
   "cell_type": "markdown",
   "id": "8b801a94",
   "metadata": {},
   "source": [
    "### 5. Visualize the dataset: implement tSNE to visualize the clusters\n",
    "- Here, we can see it is hard to differentiate two classes with tSNE"
   ]
  },
  {
   "cell_type": "code",
   "execution_count": 234,
   "id": "32461e59",
   "metadata": {},
   "outputs": [
    {
     "data": {
      "text/plain": [
       "Text(0.5, 1.0, 'Training data visualized by tSNE')"
      ]
     },
     "execution_count": 234,
     "metadata": {},
     "output_type": "execute_result"
    },
    {
     "data": {
      "image/png": "[encoded data removed]",
      "text/plain": [
       "<Figure size 432x288 with 1 Axes>"
      ]
     },
     "metadata": {
      "needs_background": "light"
     },
     "output_type": "display_data"
    }
   ],
   "source": [
    "tsne = manifold.TSNE(random_state=42,n_components=2)\n",
    "X_tsne = tsne.fit_transform(X_train)\n",
    "colors = {0:'b', 1:'r'}\n",
    "fig1,ax = plt.subplots()\n",
    "ax.scatter(X_tsne[:,0], X_tsne[:,1],c=trainY.iloc[:,-1].map(colors), s=2)\n",
    "ax.set_xlabel('tSNE 1')\n",
    "ax.set_ylabel('tSNE 2')\n",
    "plt.title('Training data visualized by tSNE')"
   ]
  },
  {
   "cell_type": "code",
   "execution_count": null,
   "id": "c44746c8",
   "metadata": {},
   "outputs": [],
   "source": []
  }
 ],
 "metadata": {
  "kernelspec": {
   "display_name": "Python 3",
   "language": "python",
   "name": "python3"
  },
  "language_info": {
   "codemirror_mode": {
    "name": "ipython",
    "version": 3
   },
   "file_extension": ".py",
   "mimetype": "text/x-python",
   "name": "python",
   "nbconvert_exporter": "python",
   "pygments_lexer": "ipython3",
   "version": "3.8.8"
  }
 },
 "nbformat": 4,
 "nbformat_minor": 5
}
